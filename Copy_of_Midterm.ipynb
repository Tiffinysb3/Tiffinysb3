{
  "nbformat": 4,
  "nbformat_minor": 0,
  "metadata": {
    "colab": {
      "provenance": [],
      "include_colab_link": true
    },
    "kernelspec": {
      "name": "python3",
      "display_name": "Python 3"
    },
    "language_info": {
      "name": "python"
    }
  },
  "cells": [
    {
      "cell_type": "markdown",
      "metadata": {
        "id": "view-in-github",
        "colab_type": "text"
      },
      "source": [
        "<a href=\"https://colab.research.google.com/github/Tiffinysb3/Tiffinysb3/blob/master/Copy_of_Midterm.ipynb\" target=\"_parent\"><img src=\"https://colab.research.google.com/assets/colab-badge.svg\" alt=\"Open In Colab\"/></a>"
      ]
    },
    {
      "cell_type": "code",
      "source": [
        "#Step 1 Recipe Database\n",
        "recipe_names = [\n",
        "    \"Cheese Lasagna\",\n",
        "    \"Vegan Indian Butter Chickpeas\",\n",
        "    \"Lactose-Free Burgers\"\n",
        "]\n",
        "\n",
        "recipe_ingredients = [\n",
        "    [\"lasagna noodles\", \"ricotta\", \"mozzarella\", \"tomato sauce\", \"basil\"],\n",
        "    [\"chickpeas\", \"tomato\", \"coconut milk\", \"garam masala\", \"onion\"],\n",
        "    [\"ground beef\", \"burger buns\", \"lettuce\", \"tomato\", \"lactose-free cheese\"]\n",
        "]\n",
        "\n",
        "recipe_cuisines = [\"Italian\", \"Indian\", \"American\"]\n",
        "\n",
        "recipe_dietary = [\"Vegetarian\", \"Vegan\", \"Lactose-Free\"]\n",
        "\n",
        "#Step 2 User Input\n",
        "\n",
        "preferred_cuisine = input(\"Please enter your preferred cuisine (Italian, Indian, American): \")\n",
        "\n",
        "dietary_restriction = input(\"Enter your dietary restriction (Vegetarian, Vegan, Lactose-Free): \")\n",
        "\n",
        "#I had trouble with figuring out how to do this, I had to do some research\n",
        "#If you think there's a better way of going about it, please let me know\n",
        "#Please delete this area of comments when we're finished\n",
        "\n",
        "available_ingredients = []\n",
        "ingredient = input(\"Please enter an ingredient (or type 'done'): \")\n",
        "\n",
        "while ingredient != \"done\":\n",
        "    available_ingredients.append(ingredient) #this adds ingredients at the end of the list\n",
        "    ingredient = input(\"Enter another ingredient (or type 'done'): \")"
      ],
      "metadata": {
        "id": "Q5jBfR6Nfn80"
      },
      "execution_count": null,
      "outputs": []
    },
    {
      "cell_type": "code",
      "source": [
        "# Ingredient input (improved version)\n",
        "ingredients_input = input(\"Enter available ingredients separated by commas (or leave blank if none): \")\n",
        "available_ingredients = [item.strip().lower() for item in ingredients_input.split(\",\") if item.strip() != \"\"]\n"
      ],
      "metadata": {
        "id": "JUN7voWOfsA1"
      },
      "execution_count": null,
      "outputs": []
    },
    {
      "cell_type": "code",
      "source": [
        "# Step 1: Recipe Database\n",
        "recipe_names = [\n",
        "    \"Cheese Lasagna\",\n",
        "    \"Vegan Indian Butter Chickpeas\",\n",
        "    \"Lactose-Free Burgers\"\n",
        "]\n",
        "\n",
        "recipe_ingredients = [\n",
        "    [\"lasagna noodles\", \"ricotta\", \"mozzarella\", \"tomato sauce\", \"basil\"],\n",
        "    [\"chickpeas\", \"tomato\", \"coconut milk\", \"garam masala\", \"onion\"],\n",
        "    [\"ground beef\", \"burger buns\", \"lettuce\", \"tomato\", \"lactose-free cheese\"]\n",
        "]\n",
        "\n",
        "recipe_cuisines = [\"Italian\", \"Indian\", \"American\"]\n",
        "recipe_dietary = [\"Vegetarian\", \"Vegan\", \"Lactose-Free\"]\n",
        "\n",
        "# Step 4: Function Implementation\n",
        "\n",
        "# Function to get user preferences\n",
        "def get_user_preferences():\n",
        "    cuisine = input(\"Please enter your preferred cuisine (Italian, Indian, American): \")\n",
        "    dietary = input(\"Enter your dietary restriction (Vegetarian, Vegan, Lactose-Free): \")\n",
        "\n",
        "    ingredients = []\n",
        "    ingredient = input(\"Please enter an ingredient you have (or type 'done'): \")\n",
        "    while ingredient.lower() != \"done\":\n",
        "        ingredients.append(ingredient.lower())\n",
        "        ingredient = input(\"Enter another ingredient (or type 'done'): \")\n",
        "\n",
        "    return cuisine, dietary, ingredients\n",
        "\n",
        "# Function to filter recipes based on user input\n",
        "def filter_recipes(cuisine, dietary, available_ingredients):\n",
        "    suggested_recipes = []\n",
        "\n",
        "    for i in range(len(recipe_names)):\n",
        "        # Check if cuisine and dietary restrictions match\n",
        "        if recipe_cuisines[i].lower() == cuisine.lower() and recipe_dietary[i].lower() == dietary.lower():\n",
        "            # Check if all recipe ingredients are available\n",
        "            if all(item.lower() in available_ingredients for item in recipe_ingredients[i]):\n",
        "                suggested_recipes.append(recipe_names[i])\n",
        "\n",
        "    return suggested_recipes\n",
        "\n",
        "# Function to display suggested recipes\n",
        "def display_recipes(recipes):\n",
        "    if recipes:\n",
        "        print(\"\\nHere are some recipes you can make:\")\n",
        "        for recipe in recipes:\n",
        "            print(\"-\", recipe)\n",
        "    else:\n",
        "        print(\"\\nSorry, no recipes match your preferences and available ingredients.\")\n",
        "\n",
        "# Step 2 & 3: Run the program\n",
        "user_cuisine, user_dietary, user_ingredients = get_user_preferences()\n",
        "matched_recipes = filter_recipes(user_cuisine, user_dietary, user_ingredients)\n",
        "display_recipes(matched_recipes)\n"
      ],
      "metadata": {
        "colab": {
          "base_uri": "https://localhost:8080/"
        },
        "id": "0HNUARpofYze",
        "outputId": "9145256b-35af-4af2-b082-4d0e3c71ed9c"
      },
      "execution_count": null,
      "outputs": [
        {
          "output_type": "stream",
          "name": "stdout",
          "text": [
            "Please enter your preferred cuisine (Italian, Indian, American): Italian\n",
            "Enter your dietary restriction (Vegetarian, Vegan, Lactose-Free): Vegetarian\n",
            "Please enter an ingredient you have (or type 'done'): lasagna noodles, ricotta, mozzarella, tomato sauce, basil\n",
            "Enter another ingredient (or type 'done'): done\n",
            "\n",
            "Sorry, no recipes match your preferences and available ingredients.\n"
          ]
        }
      ]
    },
    {
      "cell_type": "markdown",
      "source": [
        "Will finish tomorrow!"
      ],
      "metadata": {
        "id": "J7X0BdLyhQ9u"
      }
    }
  ]
}