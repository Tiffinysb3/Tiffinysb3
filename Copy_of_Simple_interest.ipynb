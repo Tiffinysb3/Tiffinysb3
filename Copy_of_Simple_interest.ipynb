{
  "cells": [
    {
      "cell_type": "markdown",
      "metadata": {
        "id": "view-in-github",
        "colab_type": "text"
      },
      "source": [
        "<a href=\"https://colab.research.google.com/github/Tiffinysb3/Tiffinysb3/blob/master/Copy_of_Simple_interest.ipynb\" target=\"_parent\"><img src=\"https://colab.research.google.com/assets/colab-badge.svg\" alt=\"Open In Colab\"/></a>"
      ]
    },
    {
      "cell_type": "code",
      "source": [
        "#simple interest calculator\n",
        "\n",
        "#run the code below\n",
        "P = int(input('Enter the principle, P:'))\n",
        "R = int(input('Enter the Rate, R:'))\n",
        "T = int(input('Enter the Time, T in years:'))\n",
        "\n",
        "#Calcute the simple interest\n",
        "SI = P*R*T\n",
        "print('The simple interest for Principle P =' ,P, 'and Rate =' ,R, 'Time T =' ,T, 'is: $' ,SI )"
      ],
      "metadata": {
        "colab": {
          "base_uri": "https://localhost:8080/"
        },
        "id": "iEoR72Y1C0v4",
        "outputId": "5b3439b7-bed8-4754-f09f-148971e60d5a"
      },
      "execution_count": null,
      "outputs": [
        {
          "output_type": "stream",
          "name": "stdout",
          "text": [
            "Enter the principle, P:3135\n",
            "Enter the Rate, R:10\n",
            "Enter the Time, T in years:30\n",
            "The simple interest for Principle P = 3135 and Rate = 10 Time T = 30 is: $ 940500\n"
          ]
        }
      ]
    },
    {
      "cell_type": "code",
      "source": [],
      "metadata": {
        "id": "6gkqbBW7F6v7"
      },
      "execution_count": null,
      "outputs": []
    },
    {
      "cell_type": "code",
      "source": [
        "#simple interest calculator\n",
        "\n",
        "#run the code below\n",
        "P = int(input('Enter the principle, P:'))\n",
        "R = int(input('Enter the Rate, R:'))\n",
        "T = int(input('Enter the Time, T in years:'))\n",
        "\n",
        "#Calcute the simple interest\n",
        "SI = P*R*T\n",
        "print('The simple interest for Principle P =' ,P, 'and Rate =' ,R, 'Time T =' ,T, 'is: $' ,SI )"
      ],
      "metadata": {
        "colab": {
          "base_uri": "https://localhost:8080/"
        },
        "outputId": "2506a0d3-d0c8-4640-8798-68016e01d8b5",
        "id": "56fOlVWpHbVt"
      },
      "execution_count": null,
      "outputs": [
        {
          "output_type": "stream",
          "name": "stdout",
          "text": [
            "Enter the principle, P:3207\n",
            "Enter the Rate, R:9\n",
            "Enter the Time, T in years:1\n",
            "The simple interest for Principle P = 3207 and Rate = 9 Time T = 1 is: $ 28863\n"
          ]
        }
      ]
    },
    {
      "cell_type": "code",
      "source": [],
      "metadata": {
        "id": "frMxJjx7Ibij"
      },
      "execution_count": null,
      "outputs": []
    },
    {
      "cell_type": "code",
      "source": [
        "#simple interest calculator\n",
        "\n",
        "#run the code below\n",
        "P = int(input('Enter the principle, P:'))\n",
        "R = int(input('Enter the Rate, R:'))\n",
        "T = int(input('Enter the Time, T in years:'))\n",
        "\n",
        "#Calcute the simple interest\n",
        "SI = P*R*T\n",
        "print('The simple interest for Principle P =' ,P, 'and Rate =' ,R, 'Time T =' ,T, 'is: $' ,SI )"
      ],
      "metadata": {
        "colab": {
          "base_uri": "https://localhost:8080/"
        },
        "outputId": "51327552-3318-42a2-ef9f-9e9b0eac20fe",
        "id": "yStlG733IdLn"
      },
      "execution_count": null,
      "outputs": [
        {
          "output_type": "stream",
          "name": "stdout",
          "text": [
            "Enter the principle, P:7738\n",
            "Enter the Rate, R:1\n",
            "Enter the Time, T in years:30\n",
            "The simple interest for Principle P = 7738 and Rate = 1 Time T = 30 is: $ 232140\n"
          ]
        }
      ]
    },
    {
      "cell_type": "code",
      "source": [],
      "metadata": {
        "id": "nyGLTuSPIr_j"
      },
      "execution_count": null,
      "outputs": []
    },
    {
      "cell_type": "code",
      "source": [
        "#simple interest calculator\n",
        "\n",
        "#run the code below\n",
        "P = int(input('Enter the principle, P:'))\n",
        "R = int(input('Enter the Rate, R:'))\n",
        "T = int(input('Enter the Time, T in years:'))\n",
        "\n",
        "#Calcute the simple interest\n",
        "SI = P*R*T\n",
        "print('The simple interest for Principle P =' ,P, 'and Rate =' ,R, 'Time T =' ,T, 'is: $' ,SI )"
      ],
      "metadata": {
        "colab": {
          "base_uri": "https://localhost:8080/"
        },
        "outputId": "a46dddd1-3342-47ec-80ad-8c3d2bd0d532",
        "id": "B0kLT2GZIsp0"
      },
      "execution_count": null,
      "outputs": [
        {
          "output_type": "stream",
          "name": "stdout",
          "text": [
            "Enter the principle, P:8486\n",
            "Enter the Rate, R:4\n",
            "Enter the Time, T in years:15\n",
            "The simple interest for Principle P = 8486 and Rate = 4 Time T = 15 is: $ 509160\n"
          ]
        }
      ]
    },
    {
      "cell_type": "code",
      "source": [],
      "metadata": {
        "id": "RcxEV3d2JNRW"
      },
      "execution_count": null,
      "outputs": []
    },
    {
      "cell_type": "code",
      "source": [],
      "metadata": {
        "id": "h2cJAXoLKI0D"
      },
      "execution_count": null,
      "outputs": []
    }
  ],
  "metadata": {
    "colab": {
      "provenance": [],
      "include_colab_link": true
    },
    "kernelspec": {
      "display_name": "Python 3",
      "name": "python3"
    }
  },
  "nbformat": 4,
  "nbformat_minor": 0
}