{
  "nbformat": 4,
  "nbformat_minor": 0,
  "metadata": {
    "colab": {
      "provenance": [],
      "include_colab_link": true
    },
    "kernelspec": {
      "name": "python3",
      "display_name": "Python 3"
    },
    "language_info": {
      "name": "python"
    }
  },
  "cells": [
    {
      "cell_type": "markdown",
      "metadata": {
        "id": "view-in-github",
        "colab_type": "text"
      },
      "source": [
        "<a href=\"https://colab.research.google.com/github/Tiffinysb3/Tiffinysb3/blob/master/Copy_of_Tiffiny's_Copy_of_Lab0_OOP.ipynb\" target=\"_parent\"><img src=\"https://colab.research.google.com/assets/colab-badge.svg\" alt=\"Open In Colab\"/></a>"
      ]
    },
    {
      "cell_type": "markdown",
      "source": [
        "# <font color=\"red\">Important!</font>: Make a copy of this notebook, put your name on the title, and share it with okeonwuka@gmail.com\n",
        "\n",
        "<font color=\"red\"> For example, if your name is Mary Jane, you would make a copy of this notebook and change the title of your copy to \"Mary_Jane_LabX- XXXXXXX\"</font>"
      ],
      "metadata": {
        "id": "J0lU3rX-M03R"
      }
    },
    {
      "cell_type": "markdown",
      "source": [
        "# **Exploring Object-Oriented Programming in Python**\n",
        "## **Objective**: In this lab, you'll develop an understanding of classes, inheritance, and polymorphism by creating and manipulating classes based on real-world examples. Follow each step carefully to apply core OOP principles.\n",
        "\n",
        "There are 6 Questions. For each question, create as many code cells as you need to fulfill the questions requirements"
      ],
      "metadata": {
        "id": "fajugmw4NhAM"
      }
    },
    {
      "cell_type": "markdown",
      "source": [
        "## **Question 1**: Identify Real-World Classes\n",
        "###Look around your environment or workplace and identify <font color=\"red\">3</font> unique items or entities that could represent classes in code.\n",
        "Examples might be: Computer, Desk, Employee, Appliance, Vehicle, etc."
      ],
      "metadata": {
        "id": "7Q2MfVnQOQz7"
      }
    },
    {
      "cell_type": "code",
      "source": [
        "# Question 1: Identify Real-World Classes\n",
        "\n",
        "# Real-world items chosen:\n",
        "# 1. Car\n",
        "# 2. Phone\n",
        "# 3. Book\n"
      ],
      "metadata": {
        "id": "lEQz55CEDbF5"
      },
      "execution_count": null,
      "outputs": []
    },
    {
      "cell_type": "markdown",
      "source": [],
      "metadata": {
        "id": "BKWRswSXDXtn"
      }
    },
    {
      "cell_type": "markdown",
      "source": [
        "## **Question 2:** Define Classes and Attributes\n",
        "###For each identified item, create a Python class. (For example, class Computer:).Inside each class, define three attributes (variables) that represent key characteristics of that item.\n",
        "Example: If you choose a Computer class, attributes might be brand, memory_size, and processor_type."
      ],
      "metadata": {
        "id": "A8P916L4Oko7"
      }
    },
    {
      "cell_type": "code",
      "source": [
        "# Code your answer in this code cell. Create more code cells as needed.\n",
        "# Question 2: Define Classes and Attributes\n",
        "\n",
        "class Car:\n",
        "    def __init__(self, brand, model, color):\n",
        "        self.brand = brand\n",
        "        self.model = model\n",
        "        self.color = color\n",
        "\n",
        "class Phone:\n",
        "    def __init__(self, brand, model, storage):\n",
        "        self.brand = brand\n",
        "        self.model = model\n",
        "        self.storage = storage\n",
        "\n",
        "class Book:\n",
        "    def __init__(self, title, author, pages):\n",
        "        self.title = title\n",
        "        self.author = author\n",
        "        self.pages = pages\n",
        "\n",
        "\n",
        "\n",
        "\n",
        "\n",
        "\n"
      ],
      "metadata": {
        "id": "IWTWoT3yO0kF"
      },
      "execution_count": null,
      "outputs": []
    },
    {
      "cell_type": "markdown",
      "source": [
        "## **Question 3:** Define Methods for Each Class\n",
        "###Inside each class, define three methods that would manipulate or interact with the class attributes.\n",
        "Example: In a Computer class, methods might include install_software(), upgrade_memory(), or check_specs()."
      ],
      "metadata": {
        "id": "NzwM9fWsO9tP"
      }
    },
    {
      "cell_type": "code",
      "source": [
        "#  Code your answer in this code cell. Create more code cells as needed.\n",
        "# Just copy the code from the previous cell and add methods to the classes\n",
        "# Question 3: Define Methods for Each Class\n",
        "\n",
        "class Car:\n",
        "    def __init__(self, brand, model, color):\n",
        "        self.brand = brand\n",
        "        self.model = model\n",
        "        self.color = color\n",
        "\n",
        "    def start_engine(self):\n",
        "        print(f\"The {self.color} {self.brand} {self.model}'s engine is now running.\")\n",
        "\n",
        "    def stop_engine(self):\n",
        "        print(f\"The {self.brand} {self.model} has been turned off.\")\n",
        "\n",
        "    def repaint(self, new_color):\n",
        "        self.color = new_color\n",
        "        print(f\"The car has been repainted {self.color}.\")\n",
        "\n",
        "\n",
        "class Phone:\n",
        "    def __init__(self, brand, model, storage):\n",
        "        self.brand = brand\n",
        "        self.model = model\n",
        "        self.storage = storage\n",
        "\n",
        "    def make_call(self, contact):\n",
        "        print(f\"Calling {contact} from {self.brand} {self.model}...\")\n",
        "\n",
        "    def add_storage(self, extra_storage):\n",
        "        self.storage += extra_storage\n",
        "        print(f\"Storage increased to {self.storage}GB.\")\n",
        "\n",
        "    def display_specs(self):\n",
        "        print(f\"{self.brand} {self.model} - {self.storage}GB storage.\")\n",
        "\n",
        "\n",
        "class Book:\n",
        "    def __init__(self, title, author, pages):\n",
        "        self.title = title\n",
        "        self.author = author\n",
        "        self.pages = pages\n",
        "\n",
        "    def read_page(self, page_number):\n",
        "        print(f\"Reading page {page_number} of '{self.title}'.\")\n",
        "\n",
        "    def book_info(self):\n",
        "        print(f\"'{self.title}' by {self.author}, {self.pages} pages.\")\n",
        "\n",
        "    def add_pages(self, extra_pages):\n",
        "        self.pages += extra_pages\n",
        "        print(f\"'{self.title}' now has {self.pages} pages.\")\n",
        "\n",
        "\n",
        "\n",
        "\n",
        "\n"
      ],
      "metadata": {
        "id": "WUiWdnG7NdPs"
      },
      "execution_count": null,
      "outputs": []
    },
    {
      "cell_type": "markdown",
      "source": [
        "## **Question 4:** Create and Test Objects\n",
        "###For each class, create three separate objects (instances) and initialize them with unique values.\n",
        "Use the methods you created to manipulate or access the attributes of each object, ensuring that they function as expected."
      ],
      "metadata": {
        "id": "wVI9-H0oPRtJ"
      }
    },
    {
      "cell_type": "code",
      "execution_count": null,
      "metadata": {
        "id": "TGXiqODpMDkV",
        "colab": {
          "base_uri": "https://localhost:8080/"
        },
        "outputId": "c1767c35-f556-4a0e-88cf-1e86c064a1b8"
      },
      "outputs": [
        {
          "output_type": "stream",
          "name": "stdout",
          "text": [
            "The Red Toyota Camry's engine is now running.\n",
            "The car has been repainted Black.\n",
            "The Ford Mustang has been turned off.\n",
            "Calling Mom from Apple iPhone 15...\n",
            "Storage increased to 384GB.\n",
            "Google Pixel 9 - 128GB storage.\n",
            "Reading page 120 of 'Harry Potter'.\n",
            "'The Hobbit' now has 330 pages.\n",
            "'Atomic Habits' by James Clear, 250 pages.\n"
          ]
        }
      ],
      "source": [
        "# Question 4: Create and Test Objects\n",
        "\n",
        "# Creating Car objects\n",
        "car1 = Car(\"Toyota\", \"Camry\", \"Red\")\n",
        "car2 = Car(\"Tesla\", \"Model 3\", \"White\")\n",
        "car3 = Car(\"Ford\", \"Mustang\", \"Blue\")\n",
        "\n",
        "car1.start_engine()\n",
        "car2.repaint(\"Black\")\n",
        "car3.stop_engine()\n",
        "\n",
        "# Creating Phone objects\n",
        "phone1 = Phone(\"Apple\", \"iPhone 15\", 128)\n",
        "phone2 = Phone(\"Samsung\", \"Galaxy S24\", 256)\n",
        "phone3 = Phone(\"Google\", \"Pixel 9\", 128)\n",
        "\n",
        "phone1.make_call(\"Mom\")\n",
        "phone2.add_storage(128)\n",
        "phone3.display_specs()\n",
        "\n",
        "# Creating Book objects\n",
        "book1 = Book(\"Harry Potter\", \"J.K. Rowling\", 500)\n",
        "book2 = Book(\"The Hobbit\", \"J.R.R. Tolkien\", 310)\n",
        "book3 = Book(\"Atomic Habits\", \"James Clear\", 250)\n",
        "\n",
        "book1.read_page(120)\n",
        "book2.add_pages(20)\n",
        "book3.book_info()"
      ]
    },
    {
      "cell_type": "markdown",
      "source": [
        "## **Question 5:** Implement Inheritance<font color=\"red\">**</font>\n",
        "###Choose one of your classes to serve as a base class (parent class) and create a subclass (child class) that inherits from it.\n",
        "For example, if you created a Vehicle class, you might create a subclass Car or Motorcycle that inherits from Vehicle.\n",
        "In the subclass, add any additional attributes or methods unique to that subclass.\n",
        "Hint: Be sure to use the super() function to initialize the base class attributes if needed."
      ],
      "metadata": {
        "id": "B_V2K2sMPop4"
      }
    },
    {
      "cell_type": "code",
      "source": [
        "# Question 5: Implement Inheritance\n",
        "\n",
        "class ElectricCar(Car):\n",
        "    def __init__(self, brand, model, color, battery_range):\n",
        "        super().__init__(brand, model, color)\n",
        "        self.battery_range = battery_range\n",
        "\n",
        "    def charge_battery(self):\n",
        "        print(f\"The {self.brand} {self.model}'s battery is now fully charged.\")\n",
        "\n",
        "    def display_range(self):\n",
        "        print(f\"This {self.model} can drive {self.battery_range} miles on a full charge.\")\n",
        "\n",
        "# Testing the subclass\n",
        "ev1 = ElectricCar(\"Tesla\", \"Model S\", \"Silver\", 390)\n",
        "ev1.start_engine()\n",
        "ev1.display_range()\n",
        "ev1.charge_battery()"
      ],
      "metadata": {
        "id": "iCBdEuMtPn9H",
        "colab": {
          "base_uri": "https://localhost:8080/"
        },
        "outputId": "004d8195-298d-4a8b-ca32-e0b5c52b18f0"
      },
      "execution_count": null,
      "outputs": [
        {
          "output_type": "stream",
          "name": "stdout",
          "text": [
            "The Silver Tesla Model S's engine is now running.\n",
            "This Model S can drive 390 miles on a full charge.\n",
            "The Tesla Model S's battery is now fully charged.\n"
          ]
        }
      ]
    },
    {
      "cell_type": "markdown",
      "source": [
        "## **Question 6**: Apply Polymorphism<font color=\"red\">**</font>\n",
        "###Use polymorphism to create a superclass that can work with both the base class and its subclass.\n",
        "For instance, if you have a Car and a Motorcycle class derived from a Vehicle superclass, implement a shared method (e.g., move()) in both subclasses with unique behaviors for each.\n",
        "Write a function that takes an object of the Vehicle type and calls the polymorphic method, demonstrating that the method works differently depending on the subclass instance passed in."
      ],
      "metadata": {
        "id": "gTV8kQy2P4lH"
      }
    },
    {
      "cell_type": "code",
      "source": [
        "# Code your answer in this code cell\n",
        "# Question 6: Apply Polymorphism\n",
        "\n",
        "class Vehicle:\n",
        "    def move(self):\n",
        "        print(\"The vehicle is moving.\")\n",
        "\n",
        "class Car(Vehicle):\n",
        "    def move(self):\n",
        "        print(\"The car drives smoothly on the road.\")\n",
        "\n",
        "class ElectricCar(Vehicle):\n",
        "    def move(self):\n",
        "        print(\"The electric car glides silently along the highway.\")\n",
        "\n",
        "# Function demonstrating polymorphism\n",
        "def vehicle_motion(vehicle):\n",
        "    vehicle.move()\n",
        "\n",
        "# Testing polymorphism\n",
        "car = Car()\n",
        "ev = ElectricCar()\n",
        "\n",
        "vehicle_motion(car)\n",
        "vehicle_motion(ev)\n",
        "\n",
        "\n",
        "\n",
        "\n",
        "\n",
        "\n",
        "\n"
      ],
      "metadata": {
        "id": "urQz8Mh2R2Ra",
        "colab": {
          "base_uri": "https://localhost:8080/"
        },
        "outputId": "090fc397-d229-48b4-f5db-71d349b3338f"
      },
      "execution_count": null,
      "outputs": [
        {
          "output_type": "stream",
          "name": "stdout",
          "text": [
            "The car drives smoothly on the road.\n",
            "The electric car glides silently along the highway.\n"
          ]
        }
      ]
    },
    {
      "cell_type": "markdown",
      "source": [
        "🧠 Lab Summary\n",
        "\n",
        "Encapsulation: Data (attributes) and behavior (methods) are bundled within each class.\n",
        "\n",
        "Instantiation: Multiple unique objects created from the same class.\n",
        "\n",
        "Inheritance: The ElectricCar class inherits from Car and extends it.\n",
        "\n",
        "Polymorphism: Different object types (Car, ElectricCar) respond differently to the same method (move())."
      ],
      "metadata": {
        "id": "b4Ie4dPoEBF0"
      }
    },
    {
      "cell_type": "markdown",
      "source": [
        "## <font color=\"red\">**</font> Example Workflow\n",
        "Suppose you choose Computer, Desk, and Chair as your classes. You might implement inheritance and polymorphism as follows:\n",
        "\n",
        "1.   Define a Furniture superclass.\n",
        "2.   Make Desk and Chair subclasses that inherit from Furniture\n",
        "1.   Implement a polymorphic method like assemble() in both subclasses that demonstrates unique assembly steps for a Desk vs. a Chair.\n",
        "\n",
        "## Note\n",
        "\n",
        "\n",
        "*   Follow proper naming conventions and ensure your code is clean and well-organized.\n",
        "*   Test each method and demonstrate inheritance and polymorphism effectively.\n",
        "\n",
        "\n",
        ".\n"
      ],
      "metadata": {
        "id": "5z4BMHYJSBLH"
      }
    }
  ]
}