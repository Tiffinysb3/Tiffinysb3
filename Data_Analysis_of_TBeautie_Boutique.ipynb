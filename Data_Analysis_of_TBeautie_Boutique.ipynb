{
  "cells": [
    {
      "cell_type": "markdown",
      "metadata": {
        "id": "view-in-github",
        "colab_type": "text"
      },
      "source": [
        "<a href=\"https://colab.research.google.com/github/Tiffinysb3/Tiffinysb3/blob/master/Data_Analysis_of_TBeautie_Boutique.ipynb\" target=\"_parent\"><img src=\"https://colab.research.google.com/assets/colab-badge.svg\" alt=\"Open In Colab\"/></a>"
      ]
    },
    {
      "cell_type": "code",
      "source": [
        "# Analyze the dataset to generate example insights & recommendations\n",
        "\n",
        "import pandas as pd\n",
        "\n",
        "# Convert Date to datetime for analysis\n",
        "data[\"Date\"] = pd.to_datetime(data[\"Date\"])\n",
        "data[\"Month\"] = data[\"Date\"].dt.strftime(\"%B\")\n",
        "\n",
        "# Calculate total sales\n",
        "data[\"Total Sales\"] = data[\"Quantity\"] * data[\"Price\"]\n",
        "\n",
        "# Aggregate by category\n",
        "category_sales = data.groupby(\"Category\")[\"Total Sales\"].sum().sort_values(ascending=False)\n",
        "\n",
        "# Aggregate by product\n",
        "product_sales = data.groupby(\"Product\")[\"Total Sales\"].sum().sort_values(ascending=False)\n",
        "\n",
        "# Aggregate by channel\n",
        "channel_sales = data.groupby(\"Channel\")[\"Total Sales\"].sum().sort_values(ascending=False)\n",
        "\n",
        "# Aggregate by month\n",
        "monthly_sales = data.groupby(\"Month\")[\"Total Sales\"].sum().sort_values(ascending=False)\n",
        "\n",
        "# Key insights\n",
        "top_category = category_sales.idxmax()\n",
        "top_product = product_sales.idxmax()\n",
        "best_channel = channel_sales.idxmax()\n",
        "best_month = monthly_sales.idxmax()\n",
        "\n",
        "# Recommendations based on insights\n",
        "insights = {\n",
        "    \"Top Category\": top_category,\n",
        "    \"Top Product\": top_product,\n",
        "    \"Best Sales Channel\": best_channel,\n",
        "    \"Best Sales Month\": best_month,\n",
        "    \"Category Sales Breakdown\": category_sales.to_dict(),\n",
        "    \"Product Sales Breakdown\": product_sales.head(5).to_dict(),\n",
        "    \"Channel Breakdown\": channel_sales.to_dict(),\n",
        "    \"Monthly Breakdown\": monthly_sales.to_dict()\n",
        "}\n",
        "\n",
        "insights"
      ],
      "metadata": {
        "id": "Fp6iVOPdvl6B",
        "colab": {
          "base_uri": "https://localhost:8080/",
          "height": 211
        },
        "outputId": "62124558-14f8-4d05-a1aa-6275c44aa9b4"
      },
      "execution_count": 2,
      "outputs": [
        {
          "output_type": "error",
          "ename": "NameError",
          "evalue": "name 'data' is not defined",
          "traceback": [
            "\u001b[0;31m---------------------------------------------------------------------------\u001b[0m",
            "\u001b[0;31mNameError\u001b[0m                                 Traceback (most recent call last)",
            "\u001b[0;32m/tmp/ipython-input-1804017723.py\u001b[0m in \u001b[0;36m<cell line: 0>\u001b[0;34m()\u001b[0m\n\u001b[1;32m      4\u001b[0m \u001b[0;34m\u001b[0m\u001b[0m\n\u001b[1;32m      5\u001b[0m \u001b[0;31m# Convert Date to datetime for analysis\u001b[0m\u001b[0;34m\u001b[0m\u001b[0;34m\u001b[0m\u001b[0m\n\u001b[0;32m----> 6\u001b[0;31m \u001b[0mdata\u001b[0m\u001b[0;34m[\u001b[0m\u001b[0;34m\"Date\"\u001b[0m\u001b[0;34m]\u001b[0m \u001b[0;34m=\u001b[0m \u001b[0mpd\u001b[0m\u001b[0;34m.\u001b[0m\u001b[0mto_datetime\u001b[0m\u001b[0;34m(\u001b[0m\u001b[0mdata\u001b[0m\u001b[0;34m[\u001b[0m\u001b[0;34m\"Date\"\u001b[0m\u001b[0;34m]\u001b[0m\u001b[0;34m)\u001b[0m\u001b[0;34m\u001b[0m\u001b[0;34m\u001b[0m\u001b[0m\n\u001b[0m\u001b[1;32m      7\u001b[0m \u001b[0mdata\u001b[0m\u001b[0;34m[\u001b[0m\u001b[0;34m\"Month\"\u001b[0m\u001b[0;34m]\u001b[0m \u001b[0;34m=\u001b[0m \u001b[0mdata\u001b[0m\u001b[0;34m[\u001b[0m\u001b[0;34m\"Date\"\u001b[0m\u001b[0;34m]\u001b[0m\u001b[0;34m.\u001b[0m\u001b[0mdt\u001b[0m\u001b[0;34m.\u001b[0m\u001b[0mstrftime\u001b[0m\u001b[0;34m(\u001b[0m\u001b[0;34m\"%B\"\u001b[0m\u001b[0;34m)\u001b[0m\u001b[0;34m\u001b[0m\u001b[0;34m\u001b[0m\u001b[0m\n\u001b[1;32m      8\u001b[0m \u001b[0;34m\u001b[0m\u001b[0m\n",
            "\u001b[0;31mNameError\u001b[0m: name 'data' is not defined"
          ]
        }
      ]
    },
    {
      "cell_type": "code",
      "metadata": {
        "id": "5edb7961"
      },
      "source": [
        "# Load the dataset\n",
        "data = pd.read_csv('/content/sample_data/california_housing_train.csv')"
      ],
      "execution_count": 3,
      "outputs": []
    }
  ],
  "metadata": {
    "colab": {
      "provenance": [],
      "include_colab_link": true
    },
    "kernelspec": {
      "display_name": "Python 3",
      "name": "python3"
    }
  },
  "nbformat": 4,
  "nbformat_minor": 0
}