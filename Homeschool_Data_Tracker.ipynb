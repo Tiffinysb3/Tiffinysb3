{
  "nbformat": 4,
  "nbformat_minor": 0,
  "metadata": {
    "colab": {
      "provenance": [],
      "authorship_tag": "ABX9TyNffHNT60z/NgXTdTro0SW+",
      "include_colab_link": true
    },
    "kernelspec": {
      "name": "python3",
      "display_name": "Python 3"
    },
    "language_info": {
      "name": "python"
    }
  },
  "cells": [
    {
      "cell_type": "markdown",
      "metadata": {
        "id": "view-in-github",
        "colab_type": "text"
      },
      "source": [
        "<a href=\"https://colab.research.google.com/github/Tiffinysb3/Tiffinysb3/blob/master/Homeschool_Data_Tracker.ipynb\" target=\"_parent\"><img src=\"https://colab.research.google.com/assets/colab-badge.svg\" alt=\"Open In Colab\"/></a>"
      ]
    },
    {
      "cell_type": "code",
      "execution_count": 2,
      "metadata": {
        "colab": {
          "base_uri": "https://localhost:8080/",
          "height": 827
        },
        "id": "JZyL02VHqIyh",
        "outputId": "ff288f8f-3481-47cd-c599-b9ecad681c45"
      },
      "outputs": [
        {
          "output_type": "stream",
          "name": "stdout",
          "text": [
            "Sample dataset saved as 'homeschool_progress.csv'\n",
            "\n",
            "Data Loaded:\n",
            "  Student  Subject  Score        Date\n",
            "0   Alice     Math     85  2025-08-01\n",
            "1   Alice  Reading     90  2025-08-01\n",
            "2   Alice  Science     78  2025-08-01\n",
            "3     Bob     Math     92  2025-08-01\n",
            "4     Bob  Reading     88  2025-08-01\n",
            "5     Bob  Science     80  2025-08-01\n",
            "\n",
            "Average score for Alice: 84.33333333333333\n",
            "Average score in Math: 88.5\n"
          ]
        },
        {
          "output_type": "display_data",
          "data": {
            "text/plain": [
              "<Figure size 600x400 with 1 Axes>"
            ],
            "image/png": "[encoded data removed]"
          },
          "metadata": {}
        },
        {
          "output_type": "stream",
          "name": "stdout",
          "text": [
            "Added score: Charlie - Math - 95 on 2025-08-29\n",
            "\n",
            "Updated Data:\n",
            "   Student  Subject  Score        Date\n",
            "0    Alice     Math     85  2025-08-01\n",
            "1    Alice  Reading     90  2025-08-01\n",
            "2    Alice  Science     78  2025-08-01\n",
            "3      Bob     Math     92  2025-08-01\n",
            "4      Bob  Reading     88  2025-08-01\n",
            "5      Bob  Science     80  2025-08-01\n",
            "6  Charlie     Math     95  2025-08-29\n"
          ]
        }
      ],
      "source": [
        "# Homeschool Progress Tracker - Beginner-Friendly Starter Template\n",
        "# This template is beginner-friendly with detailed comments.\n",
        "\n",
        "import pandas as pd\n",
        "import matplotlib.pyplot as plt\n",
        "from datetime import datetime\n",
        "\n",
        "# ------------------------------\n",
        "# 1. Sample Dataset Creation\n",
        "# ------------------------------\n",
        "# Create a sample dataset of students, subjects, scores, and dates\n",
        "sample_data = {\n",
        "    'Student': ['Alice', 'Alice', 'Alice', 'Bob', 'Bob', 'Bob'],\n",
        "    'Subject': ['Math', 'Reading', 'Science', 'Math', 'Reading', 'Science'],\n",
        "    'Score': [85, 90, 78, 92, 88, 80],\n",
        "    'Date': [\n",
        "        '2025-08-01', '2025-08-01', '2025-08-01',\n",
        "        '2025-08-01', '2025-08-01', '2025-08-01'\n",
        "    ]\n",
        "}\n",
        "\n",
        "# Convert to DataFrame\n",
        "progress_df = pd.DataFrame(sample_data)\n",
        "\n",
        "# Save to CSV for future use\n",
        "progress_df.to_csv('homeschool_progress.csv', index=False)\n",
        "print(\"Sample dataset saved as 'homeschool_progress.csv'\")\n",
        "\n",
        "# ------------------------------\n",
        "# 2. Load Data\n",
        "# ------------------------------\n",
        "# Load the CSV file into a DataFrame\n",
        "progress_df = pd.read_csv('homeschool_progress.csv')\n",
        "print(\"\\nData Loaded:\")\n",
        "print(progress_df)\n",
        "\n",
        "# ------------------------------\n",
        "# 3. Basic Analytics Functions\n",
        "# ------------------------------\n",
        "# Calculate average score for a specific student\n",
        "def average_score(student_name):\n",
        "    student_data = progress_df[progress_df['Student'] == student_name]\n",
        "    avg = student_data['Score'].mean()\n",
        "    return avg\n",
        "\n",
        "# Calculate average score per subject\n",
        "def average_score_subject(subject_name):\n",
        "    subject_data = progress_df[progress_df['Subject'] == subject_name]\n",
        "    avg = subject_data['Score'].mean()\n",
        "    return avg\n",
        "\n",
        "# Example usage\n",
        "print(\"\\nAverage score for Alice:\", average_score('Alice'))\n",
        "print(\"Average score in Math:\", average_score_subject('Math'))\n",
        "\n",
        "# ------------------------------\n",
        "# 4. Basic Visualization\n",
        "# ------------------------------\n",
        "# Plot Alice's progress over subjects\n",
        "alice_data = progress_df[progress_df['Student'] == 'Alice']\n",
        "plt.figure(figsize=(6,4))\n",
        "plt.plot(alice_data['Subject'], alice_data['Score'], marker='o')\n",
        "plt.title('Alice\\'s Progress by Subject')\n",
        "plt.xlabel('Subject')\n",
        "plt.ylabel('Score')\n",
        "plt.ylim(0, 100)\n",
        "plt.grid(True)\n",
        "plt.show()\n",
        "\n",
        "# ------------------------------\n",
        "# 5. Adding a New Student Score (Function)\n",
        "# ------------------------------\n",
        "def add_score(student, subject, score, date=None):\n",
        "    if date is None:\n",
        "        date = datetime.today().strftime('%Y-%m-%d')\n",
        "    global progress_df\n",
        "    new_row = pd.DataFrame({'Student':[student], 'Subject':[subject], 'Score':[score], 'Date':[date]})\n",
        "    progress_df = pd.concat([progress_df, new_row], ignore_index=True)\n",
        "    print(f\"Added score: {student} - {subject} - {score} on {date}\")\n",
        "\n",
        "# Example usage\n",
        "add_score('Charlie', 'Math', 95)\n",
        "print(\"\\nUpdated Data:\")\n",
        "print(progress_df)"
      ]
    }
  ]
}