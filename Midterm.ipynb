{
  "nbformat": 4,
  "nbformat_minor": 0,
  "metadata": {
    "colab": {
      "provenance": [],
      "include_colab_link": true
    },
    "kernelspec": {
      "name": "python3",
      "display_name": "Python 3"
    },
    "language_info": {
      "name": "python"
    }
  },
  "cells": [
    {
      "cell_type": "markdown",
      "metadata": {
        "id": "view-in-github",
        "colab_type": "text"
      },
      "source": [
        "<a href=\"https://colab.research.google.com/github/Tiffinysb3/Tiffinysb3/blob/master/Midterm.ipynb\" target=\"_parent\"><img src=\"https://colab.research.google.com/assets/colab-badge.svg\" alt=\"Open In Colab\"/></a>"
      ]
    },
    {
      "cell_type": "code",
      "source": [
        "#Step 1 Recipe Database\n",
        "recipe_names = [\n",
        "    \"Cheese Lasagna\",\n",
        "    \"Vegan Indian Butter Chickpeas\",\n",
        "    \"Lactose-Free Burgers\"\n",
        "]\n",
        "\n",
        "recipe_ingredients = [\n",
        "    [\"lasagna noodles\", \"ricotta\", \"mozzarella\", \"tomato sauce\", \"basil\"],\n",
        "    [\"chickpeas\", \"tomato\", \"coconut milk\", \"garam masala\", \"onion\"],\n",
        "    [\"ground beef\", \"burger buns\", \"lettuce\", \"tomato\", \"lactose-free cheese\"]\n",
        "]\n",
        "\n",
        "recipe_cuisines = [\"Italian\", \"Indian\", \"American\"]\n",
        "\n",
        "recipe_dietary = [\"Vegetarian\", \"Vegan\", \"Lactose-Free\"]\n",
        "\n",
        "#Step 2 User Input\n",
        "\n",
        "preferred_cuisine = input(\"Please enter your preferred cuisine (Italian, Indian, American): \")\n",
        "\n",
        "dietary_restriction = input(\"Please enter your dietary restriction (Vegetarian, Vegan, Lactose-Free): \")\n",
        "\n",
        "#I had trouble with figuring out how to do this, I had to do some research\n",
        "#If you think there's a better way of going about it, please let me know\n",
        "#Please delete this area of comments when we're finished\n",
        "\n",
        "available_ingredients = []\n",
        "ingredient = input(\"Please enter an ingredient (or type 'done'): \")\n",
        "\n",
        "while ingredient != \"done\":\n",
        "    available_ingredients.append(ingredient) #this adds ingredients at the end of the list\n",
        "    ingredient = input(\"Enter another ingredient (or type 'done'): \")"
      ],
      "metadata": {
        "id": "Q5jBfR6Nfn80"
      },
      "execution_count": null,
      "outputs": []
    },
    {
      "cell_type": "code",
      "source": [
        "# Ingredient input (improved version)\n",
        "ingredients_input = input(\"Enter available ingredients separated by commas (or leave blank if none): \")\n",
        "available_ingredients = [item.strip().lower() for item in ingredients_input.split(\",\") if item.strip() != \"\"]\n"
      ],
      "metadata": {
        "id": "JUN7voWOfsA1"
      },
      "execution_count": null,
      "outputs": []
    },
    {
      "cell_type": "code",
      "source": [
        "# Step 1: Recipe Database\n",
        "recipe_names = [\n",
        "    \"Cheese Lasagna\",\n",
        "    \"Vegan Indian Butter Chickpeas\",\n",
        "    \"Lactose-Free Burgers\"\n",
        "]\n",
        "\n",
        "recipe_ingredients = [\n",
        "    [\"lasagna noodles\", \"ricotta\", \"mozzarella\", \"tomato sauce\", \"basil\"],\n",
        "    [\"chickpeas\", \"tomato\", \"coconut milk\", \"garam masala\", \"onion\"],\n",
        "    [\"ground beef\", \"burger buns\", \"lettuce\", \"tomato\", \"lactose-free cheese\"]\n",
        "]\n",
        "\n",
        "recipe_cuisines = [\"Italian\", \"Indian\", \"American\"]\n",
        "recipe_dietary = [\"Vegetarian\", \"Vegan\", \"Lactose-Free\"]\n",
        "\n",
        "# Step 4: Function Implementation\n",
        "\n",
        "# Function to get user preferences\n",
        "def get_user_preferences():\n",
        "    cuisine = input(\"Please enter your preferred cuisine (Italian, Indian, American): \")\n",
        "    dietary = input(\"Please enter your dietary restriction (Vegetarian, Vegan, Lactose-Free): \")\n",
        "\n",
        "    ingredients = []\n",
        "    ingredient = input(\"Please enter an ingredient you have (or type 'done'): \")\n",
        "    while ingredient.lower() != \"done\":\n",
        "        ingredients.append(ingredient.lower())\n",
        "        ingredient = input(\"Enter another ingredient (or type 'done'): \")\n",
        "\n",
        "    return cuisine, dietary, ingredients\n",
        "\n",
        "# Function to filter recipes based on user input\n",
        "def filter_recipes(cuisine, dietary, available_ingredients):\n",
        "    suggested_recipes = []\n",
        "\n",
        "    for i in range(len(recipe_names)):\n",
        "        # Check if cuisine and dietary restrictions match\n",
        "        if recipe_cuisines[i].lower() == cuisine.lower() and recipe_dietary[i].lower() == dietary.lower():\n",
        "            # Check if all recipe ingredients are available\n",
        "            if all(item.lower() in available_ingredients for item in recipe_ingredients[i]):\n",
        "                suggested_recipes.append(recipe_names[i])\n",
        "\n",
        "    return suggested_recipes\n",
        "\n",
        "# Function to display suggested recipes\n",
        "def display_recipes(recipes):\n",
        "    if recipes:\n",
        "        print(\"\\nHere are some recipes you can make:\")\n",
        "        for recipe in recipes:\n",
        "            print(\"-\", recipe)\n",
        "    else:\n",
        "        print(\"\\nSorry, no recipes match your preferences and available ingredients.\")\n",
        "\n",
        "# Step 2 & 3: Run the program\n",
        "user_cuisine, user_dietary, user_ingredients = get_user_preferences()\n",
        "matched_recipes = filter_recipes(user_cuisine, user_dietary, user_ingredients)\n",
        "display_recipes(matched_recipes)\n"
      ],
      "metadata": {
        "colab": {
          "base_uri": "https://localhost:8080/"
        },
        "id": "0HNUARpofYze",
        "outputId": "9145256b-35af-4af2-b082-4d0e3c71ed9c"
      },
      "execution_count": null,
      "outputs": [
        {
          "output_type": "stream",
          "name": "stdout",
          "text": [
            "Please enter your preferred cuisine (Italian, Indian, American): Italian\n",
            "Enter your dietary restriction (Vegetarian, Vegan, Lactose-Free): Vegetarian\n",
            "Please enter an ingredient you have (or type 'done'): lasagna noodles, ricotta, mozzarella, tomato sauce, basil\n",
            "Enter another ingredient (or type 'done'): done\n",
            "\n",
            "Sorry, no recipes match your preferences and available ingredients.\n"
          ]
        }
      ]
    },
    {
      "cell_type": "markdown",
      "source": [
        "Improved version below"
      ],
      "metadata": {
        "id": "bCnwj56jEbNS"
      }
    },
    {
      "cell_type": "code",
      "source": [
        "# Step 1: Recipe Database\n",
        "recipe_names = [\n",
        "    \"Cheese Lasagna\",\n",
        "    \"Vegan Indian Butter Chickpeas\",\n",
        "    \"Lactose-Free Burgers\"\n",
        "]\n",
        "\n",
        "recipe_ingredients = [\n",
        "    [\"lasagna noodles\", \"ricotta\", \"mozzarella\", \"tomato sauce\", \"basil\"],\n",
        "    [\"chickpeas\", \"tomato\", \"coconut milk\", \"garam masala\", \"onion\"],\n",
        "    [\"ground beef\", \"burger buns\", \"lettuce\", \"tomato\", \"lactose-free cheese\"]\n",
        "]\n",
        "\n",
        "# Matching cuisine and dietary preferences for each recipe\n",
        "recipe_cuisines = [\n",
        "    \"italian\",\n",
        "    \"indian\",\n",
        "    \"american\"\n",
        "]\n",
        "\n",
        "recipe_dietary = [\n",
        "    \"vegetarian\",       # Cheese Lasagna\n",
        "    \"vegan\",            # Butter Chickpeas\n",
        "    \"lactose-free\"      # Burgers\n",
        "]\n",
        "\n",
        "# Step 2: Get user preferences\n",
        "def get_user_preferences():\n",
        "    user_cuisine = input(\"What cuisine do you prefer? (Italian/Indian/American or leave blank): \").strip().lower()\n",
        "    user_dietary = input(\"Any dietary preference? (vegan/vegetarian/lactose-free or leave blank): \").strip().lower()\n",
        "    user_ingredients = input(\"What ingredients do you have? (comma separated or leave blank): \").lower().split(\",\")\n",
        "    user_ingredients = [ingredient.strip() for ingredient in user_ingredients if ingredient.strip()]\n",
        "    return user_cuisine, user_dietary, user_ingredients\n",
        "\n",
        "# Step 3: Filter + rank recipes\n",
        "def filter_recipes(user_cuisine, user_dietary, user_ingredients):\n",
        "    matches = []\n",
        "    for name, ingredients, cuisine, dietary in zip(recipe_names, recipe_ingredients, recipe_cuisines, recipe_dietary):\n",
        "        ingredients_lower = [i.lower() for i in ingredients]\n",
        "\n",
        "        # Flexible cuisine filter (only check if user specified one)\n",
        "        if user_cuisine and user_cuisine != cuisine:\n",
        "            continue\n",
        "\n",
        "        # Flexible dietary filter (only check if user specified one)\n",
        "        if user_dietary and user_dietary != dietary:\n",
        "            continue\n",
        "\n",
        "        # Count ingredient matches\n",
        "        match_count = 0\n",
        "        if user_ingredients:\n",
        "            match_count = sum(1 for item in user_ingredients if item in ingredients_lower)\n",
        "\n",
        "        matches.append((name, ingredients, cuisine, dietary, match_count))\n",
        "\n",
        "    # Sort recipes by number of matches (descending)\n",
        "    matches.sort(key=lambda x: x[4], reverse=True)\n",
        "    return matches\n",
        "\n",
        "# Step 4: Display results\n",
        "def display_recipes(matched_recipes, user_ingredients):\n",
        "    if matched_recipes and (matched_recipes[0][4] > 0 or not user_ingredients):\n",
        "        print(\"\\nRecipes you can try (ranked by best ingredient match):\")\n",
        "        for name, ingredients, cuisine, dietary, match_count in matched_recipes:\n",
        "            match_info = f\" | {match_count} ingredient match(es)\" if match_count > 0 else \"\"\n",
        "            print(f\"- {name} ({cuisine.title()}, {dietary.title()}): {', '.join(ingredients)}{match_info}\")\n",
        "    else:\n",
        "        # If no strong matches, suggest closest ones\n",
        "        print(\"\\nNo perfect matches found... but here are the closest recipes you could try:\")\n",
        "        top_match_count = max(r[4] for r in matched_recipes) if matched_recipes else 0\n",
        "        for name, ingredients, cuisine, dietary, match_count in matched_recipes:\n",
        "            if match_count == top_match_count:  # only show best possible\n",
        "                missing = len(ingredients) - match_count\n",
        "                print(f\"- {name} ({cuisine.title()}, {dietary.title()}): \"\n",
        "                      f\"{', '.join(ingredients)} | Missing {missing} ingredient(s)\")\n",
        "\n",
        "# Step 5: Run the program\n",
        "user_cuisine, user_dietary, user_ingredients = get_user_preferences()\n",
        "matched_recipes = filter_recipes(user_cuisine, user_dietary, user_ingredients)\n",
        "display_recipes(matched_recipes, user_ingredients)\n"
      ],
      "metadata": {
        "colab": {
          "base_uri": "https://localhost:8080/"
        },
        "id": "jZFpXVIWEX9a",
        "outputId": "26555b27-c930-42b8-a4d1-5c1bdbe4c9eb"
      },
      "execution_count": 3,
      "outputs": [
        {
          "output_type": "stream",
          "name": "stdout",
          "text": [
            "What cuisine do you prefer? (Italian/Indian/American or leave blank): Italian\n",
            "Any dietary preference? (vegan/vegetarian/lactose-free or leave blank): Vegetarian\n",
            "What ingredients do you have? (comma separated or leave blank): \n",
            "\n",
            "Recipes you can try (ranked by best ingredient match):\n",
            "- Cheese Lasagna (Italian, Vegetarian): lasagna noodles, ricotta, mozzarella, tomato sauce, basil\n"
          ]
        }
      ]
    },
    {
      "cell_type": "markdown",
      "source": [
        "Yesterday I could not get it to give a recipe due to the filteering function being too restrictive. Now it works properly and will give more choices based on some, none or all input given."
      ],
      "metadata": {
        "id": "-9RWRXhDE3As"
      }
    }
  ]
}