{
  "nbformat": 4,
  "nbformat_minor": 0,
  "metadata": {
    "colab": {
      "provenance": [],
      "include_colab_link": true
    },
    "kernelspec": {
      "name": "python3",
      "display_name": "Python 3"
    },
    "language_info": {
      "name": "python"
    }
  },
  "cells": [
    {
      "cell_type": "markdown",
      "metadata": {
        "id": "view-in-github",
        "colab_type": "text"
      },
      "source": [
        "<a href=\"https://colab.research.google.com/github/Tiffinysb3/Tiffinysb3/blob/master/Tiffiny's_copy_of_Life_begins_with_Functions!_Part1.ipynb\" target=\"_parent\"><img src=\"https://colab.research.google.com/assets/colab-badge.svg\" alt=\"Open In Colab\"/></a>"
      ]
    },
    {
      "cell_type": "markdown",
      "source": [
        "# Functions\n",
        "\n",
        "Functions are \"software's cells\":\n",
        "+ Like cells, they are self-contained\n",
        "+ Like cells, they are the essential building blocks for ~~life~~ software\n",
        "+ Like cells, they carefully control how things \"enter\" and \"exit\"\n",
        "+ Like cells, we can reason about their _overall function_ (ignoring their internals)\n",
        "+ Like cells, we can also reason about their internal mechanisms/instructions\n",
        "+ Like cells, larger structures are composed by assembling lots of them together -- in cooperation or competition\n",
        "\n",
        "Software is always an interrelated, carefully-constructed collection of functions. So, we'll be building functions throughout class...\n",
        "\n",
        "<br>\n",
        "\n",
        "Let's see some... then build some!\n",
        "\n",
        "The next cell defines a function that doubles its input:"
      ],
      "metadata": {
        "id": "USejyIiPoHYM"
      }
    },
    {
      "cell_type": "code",
      "source": [
        "#\n",
        "# This cell defines a function named   dbl\n",
        "\n",
        "def dbl(x):\n",
        "    \"\"\" Result: dbl returns twice its argument\n",
        "        Argument x: a number (int or float)\n",
        "    \"\"\"\n",
        "\n",
        "    return 2*x\n",
        "\n",
        "\n",
        "# Try running this cell!\n",
        "\n",
        "# dbl(23)    # this calls the function dbl"
      ],
      "metadata": {
        "id": "roVUN3anoVWx"
      },
      "execution_count": 2,
      "outputs": []
    },
    {
      "cell_type": "markdown",
      "source": [
        "Running the cell above won't do anything!\n",
        "\n",
        "The function has been _defined_, but it has not yet been ***run***\n",
        "\n",
        "Run it in the next cell:"
      ],
      "metadata": {
        "id": "_JfSkJryoaIa"
      }
    },
    {
      "cell_type": "code",
      "source": [
        "# Call dbl\n",
        "\n",
        "dbl(23)"
      ],
      "metadata": {
        "id": "C2SUwsdXoZwB",
        "colab": {
          "base_uri": "https://localhost:8080/",
          "height": 176
        },
        "outputId": "3b0ace35-0a2b-401c-c515-6075a77dbeb1"
      },
      "execution_count": 1,
      "outputs": [
        {
          "output_type": "error",
          "ename": "NameError",
          "evalue": "name 'dbl' is not defined",
          "traceback": [
            "\u001b[0;31m---------------------------------------------------------------------------\u001b[0m",
            "\u001b[0;31mNameError\u001b[0m                                 Traceback (most recent call last)",
            "\u001b[0;32m/tmp/ipython-input-949113306.py\u001b[0m in \u001b[0;36m<cell line: 0>\u001b[0;34m()\u001b[0m\n\u001b[1;32m      1\u001b[0m \u001b[0;31m# Call dbl\u001b[0m\u001b[0;34m\u001b[0m\u001b[0;34m\u001b[0m\u001b[0m\n\u001b[1;32m      2\u001b[0m \u001b[0;34m\u001b[0m\u001b[0m\n\u001b[0;32m----> 3\u001b[0;31m \u001b[0mdbl\u001b[0m\u001b[0;34m(\u001b[0m\u001b[0;36m23\u001b[0m\u001b[0;34m)\u001b[0m\u001b[0;34m\u001b[0m\u001b[0;34m\u001b[0m\u001b[0m\n\u001b[0m",
            "\u001b[0;31mNameError\u001b[0m: name 'dbl' is not defined"
          ]
        }
      ]
    },
    {
      "cell_type": "markdown",
      "source": [
        "### Follow the data!\n",
        "\n",
        "A key to understanding what a function does and how it operates is _following the data_\n",
        "+ For the example above, follow the ``23`` that is input, in the parens, of the cell above...\n",
        "+ It is passed into the top line of the function in the previous cell -- the line with the ``def`` keyword\n",
        "+ As it is passed in, ***the function names it ``x``***\n",
        "+ Within the function, it computes two-times-x with ``2*x``\n",
        "+ Within the function, it will ``return`` that value ``2*x``\n",
        "+ That output value is double the input value\n",
        "+ That output value is returned -- and used -- and shown -- when the function is called!\n",
        "\n",
        "It works with strings, too:"
      ],
      "metadata": {
        "id": "FOHM_-cLohyR"
      }
    },
    {
      "cell_type": "code",
      "source": [
        "# call dbl with a string\n",
        "\n",
        "dbl('wow ')"
      ],
      "metadata": {
        "id": "uPcYYdazomlY",
        "colab": {
          "base_uri": "https://localhost:8080/",
          "height": 35
        },
        "outputId": "4737b903-5b7b-4fd7-9711-4fa3a4e95743"
      },
      "execution_count": 3,
      "outputs": [
        {
          "output_type": "execute_result",
          "data": {
            "text/plain": [
              "'wow wow '"
            ],
            "application/vnd.google.colaboratory.intrinsic+json": {
              "type": "string"
            }
          },
          "metadata": {},
          "execution_count": 3
        }
      ]
    },
    {
      "cell_type": "markdown",
      "source": [
        "## Signature and Docstring\n",
        "\n",
        "The first line of a Python function is called its _signature_. The function signature includes the keyword ```def``, the name of the function, and a parenthesized list of arguments (inputs) to the function.\n",
        "\n",
        "**Docstring**    \n",
        "\n",
        "Directly underneath the signature is a string inside triple quotes ``\"\"\"`` — this is called the docstring, short for \"documentation string.\" It is excellent programming practice to include a docstring in all of your functions (even simple ones such as these). Make this a habit.\n",
        "\n",
        "It's the future \"YOU\" -- who's most often wondering what previous code does -- that most appreciates this! A docstring should describe the function's arguments and result (return value).\n",
        "\n",
        "Most importantly, Docstrings are how your functions become part of _Python's built-in help system_.  To see this, type\n",
        "\n",
        "``help(dbl)``"
      ],
      "metadata": {
        "id": "n9QBxhUEoug6"
      }
    },
    {
      "cell_type": "code",
      "source": [
        "help(dbl)"
      ],
      "metadata": {
        "id": "-CZUCuu3o00s",
        "colab": {
          "base_uri": "https://localhost:8080/"
        },
        "outputId": "aa9be431-3e27-4ef8-8cb1-670c1fd09b1e"
      },
      "execution_count": 4,
      "outputs": [
        {
          "output_type": "stream",
          "name": "stdout",
          "text": [
            "Help on function dbl in module __main__:\n",
            "\n",
            "dbl(x)\n",
            "    Result: dbl returns twice its argument\n",
            "    Argument x: a number (int or float)\n",
            "\n"
          ]
        }
      ]
    },
    {
      "cell_type": "markdown",
      "source": [
        "... and you will see that Python provides the docstring as the help!\n",
        "\n",
        "In fact, Python's in-built help system is docstrings! This self-documenting feature in Python is especially important for making your functions understandable, both to others and to yourself.\n",
        "\n",
        "Syntax Warning\n",
        "\n",
        "The first set of triple quotes of a docstring needs to be indented underneath the function definition def line, at the same level of indentation as the rest of block of code that defines the function"
      ],
      "metadata": {
        "id": "H5ZM4fdno31I"
      }
    },
    {
      "cell_type": "markdown",
      "source": [],
      "metadata": {
        "id": "WKqyOw21oxxS"
      }
    },
    {
      "cell_type": "markdown",
      "source": [
        "### <font color=\"darkblue\"><b>Next task:  &nbsp; Function Building</b></font>\n",
        "\n",
        "Dive in!  These next few cells ask you to define -- and test -- several different functions.\n",
        "\n",
        "For each one,\n",
        "+ be sure to include a docstring that describes what your function does and what its arguments are.\n",
        "+ See the ``tpl`` example, next, for a reasonable starting point and guide\n",
        "+ _Syntax errors_?  Inevitable!  Take a look at the message, and ask us or others.\n",
        "+ Be sure to use the tests provided to check your function's behavior..."
      ],
      "metadata": {
        "id": "Jh7cz2IepDOC"
      }
    },
    {
      "cell_type": "markdown",
      "source": [
        "**Example problem**:\n",
        "\n",
        "Write the function tpl(x), which accepts a numeric argument and returns three times that argument.\n",
        "\n",
        "Two tests are provided (be sure to test them - and be sure they work!)\n",
        "\n",
        "**Answer to example problem**:"
      ],
      "metadata": {
        "id": "re09qA59pVJF"
      }
    },
    {
      "cell_type": "code",
      "source": [
        "def tpl(x):\n",
        "    \"\"\" Return value: tpl returns thrice its argument\n",
        "        Argument x: a number (int or float)\n",
        "    \"\"\"\n",
        "    return 3*x\n",
        "\n",
        "\n",
        "# Two tests are provided:\n",
        "print(\"tpl(10) should be 30 <->\", tpl(10))\n",
        "print(\"tpl(46/3) should be 46 <->\", tpl(46/3))"
      ],
      "metadata": {
        "id": "jdEiw6_apZhp",
        "colab": {
          "base_uri": "https://localhost:8080/"
        },
        "outputId": "ecad56eb-4565-4495-f346-08dcfef7112d"
      },
      "execution_count": 5,
      "outputs": [
        {
          "output_type": "stream",
          "name": "stdout",
          "text": [
            "tpl(10) should be 30 <-> 30\n",
            "tpl(46/3) should be 46 <-> 46.0\n"
          ]
        }
      ]
    },
    {
      "cell_type": "markdown",
      "source": [
        "### <font color=\"darkblue\"><b>Function to write #1: &nbsp; ``sq``</b></font>\n",
        "\n",
        "The function ``sq(x)`` should accept a numeric argument named ``x``.\n",
        "\n",
        "Then, ``sq`` should return the square of its argument.\n",
        "\n",
        "Note that this is the _square_, not the square root. (The square is ``x`` times itself...)"
      ],
      "metadata": {
        "id": "av8PyosEpf3p"
      }
    },
    {
      "cell_type": "code",
      "source": [
        "#\n",
        "# space for your sq function  (use the previous examples to get started!)\n",
        "def sq(x):\n",
        "    \"\"\" Return value: sq returns the square its argument\n",
        "        Argument x: a number (int or float)\n",
        "    \"\"\"\n",
        "    return x**2\n",
        "\n",
        "\n",
        "\n",
        "# be sure these two tests work!\n",
        "# you'll need to \"comment them back in\":\n",
        "\n",
        "print(\"sq(10) should be 100 <->\", sq(10))\n",
        "print(\"sq(46) should be 2116 <->\", sq(46))"
      ],
      "metadata": {
        "id": "o1uycVL5poCl",
        "colab": {
          "base_uri": "https://localhost:8080/"
        },
        "outputId": "0a789240-89cd-43cf-fdf0-c1a996a71053"
      },
      "execution_count": 6,
      "outputs": [
        {
          "output_type": "stream",
          "name": "stdout",
          "text": [
            "sq(10) should be 100 <-> 100\n",
            "sq(46) should be 2116 <-> 2116\n"
          ]
        }
      ]
    },
    {
      "cell_type": "markdown",
      "source": [
        "# More Example of functions (from class)"
      ],
      "metadata": {
        "id": "H4n76wN2n7_X"
      }
    },
    {
      "cell_type": "code",
      "execution_count": 7,
      "metadata": {
        "id": "G1_d0VVaXLyJ"
      },
      "outputs": [],
      "source": [
        "def add_two_numbers(a,b):\n",
        "  return a+b\n"
      ]
    },
    {
      "cell_type": "markdown",
      "source": [],
      "metadata": {
        "id": "Xx6WHtskoExx"
      }
    },
    {
      "cell_type": "code",
      "source": [
        "D = add_two_numbers(5,8)\n",
        "print(D)"
      ],
      "metadata": {
        "colab": {
          "base_uri": "https://localhost:8080/"
        },
        "id": "OjreqAglZAM-",
        "outputId": "78e804c8-7f9f-4f14-ae1e-a070b752e778"
      },
      "execution_count": 8,
      "outputs": [
        {
          "output_type": "stream",
          "name": "stdout",
          "text": [
            "13\n"
          ]
        }
      ]
    },
    {
      "cell_type": "code",
      "source": [
        "def do_nothing():\n",
        "  return \"billy\""
      ],
      "metadata": {
        "id": "BnkIUnxaaND9"
      },
      "execution_count": 9,
      "outputs": []
    },
    {
      "cell_type": "code",
      "source": [
        "# F = do_nothing()\n",
        "do_nothing()"
      ],
      "metadata": {
        "colab": {
          "base_uri": "https://localhost:8080/",
          "height": 35
        },
        "id": "Gz-fEu3BaiJU",
        "outputId": "ba9e56a8-85c1-4538-f354-d2b7719faea4"
      },
      "execution_count": 10,
      "outputs": [
        {
          "output_type": "execute_result",
          "data": {
            "text/plain": [
              "'billy'"
            ],
            "application/vnd.google.colaboratory.intrinsic+json": {
              "type": "string"
            }
          },
          "metadata": {},
          "execution_count": 10
        }
      ]
    },
    {
      "cell_type": "code",
      "source": [
        "def add_2_numbers(a,b):\n",
        "  \"\"\"\n",
        "    This function adds 2 numbers together and returns the sum\n",
        "  \"\"\"\n",
        "\n",
        "  return a + b"
      ],
      "metadata": {
        "id": "qNh2eRaqa8mZ"
      },
      "execution_count": 11,
      "outputs": []
    },
    {
      "cell_type": "code",
      "source": [
        "E = add_2_numbers(10,4)\n",
        "print(E)"
      ],
      "metadata": {
        "id": "Y2FtD_P7bysD",
        "colab": {
          "base_uri": "https://localhost:8080/"
        },
        "outputId": "18f3bb96-c921-4455-cacf-10ec84abcfd0"
      },
      "execution_count": 12,
      "outputs": [
        {
          "output_type": "stream",
          "name": "stdout",
          "text": [
            "14\n"
          ]
        }
      ]
    },
    {
      "cell_type": "code",
      "source": [
        "def circle_area(radius):\n",
        "  return 3.14 * radius * radius"
      ],
      "metadata": {
        "id": "aziEkY60bjxO"
      },
      "execution_count": 13,
      "outputs": []
    },
    {
      "cell_type": "code",
      "source": [
        "ball = circle_area(3)\n",
        "print(ball)"
      ],
      "metadata": {
        "colab": {
          "base_uri": "https://localhost:8080/"
        },
        "id": "X23_ySsXc7MY",
        "outputId": "cc5ddb43-aa69-4b41-9890-31592c982175"
      },
      "execution_count": 14,
      "outputs": [
        {
          "output_type": "stream",
          "name": "stdout",
          "text": [
            "28.259999999999998\n"
          ]
        }
      ]
    },
    {
      "cell_type": "code",
      "source": [
        "def is_even(number):\n",
        "  return number % 2 == 0"
      ],
      "metadata": {
        "id": "heRiRC92f0yK"
      },
      "execution_count": 15,
      "outputs": []
    },
    {
      "cell_type": "code",
      "source": [
        "def is_even2(number):\n",
        "  if number % 2 == 0:\n",
        "    return True\n",
        "  else:\n",
        "    return False"
      ],
      "metadata": {
        "id": "Nyu1hjyyZ5yU"
      },
      "execution_count": 16,
      "outputs": []
    },
    {
      "cell_type": "code",
      "source": [
        "status = is_even(7)\n",
        "print(status)"
      ],
      "metadata": {
        "id": "T9c5ccI-hEOB",
        "colab": {
          "base_uri": "https://localhost:8080/"
        },
        "outputId": "22d946a7-1ee5-4fd0-c389-7f7a40adc263"
      },
      "execution_count": 17,
      "outputs": [
        {
          "output_type": "stream",
          "name": "stdout",
          "text": [
            "False\n"
          ]
        }
      ]
    },
    {
      "cell_type": "code",
      "source": [
        "import math\n",
        "\n",
        "#define function\n",
        "def square_root(number):\n",
        "  return math.sqrt(number)\n",
        "\n",
        "\n",
        "square_root(8)\n"
      ],
      "metadata": {
        "id": "t7Aq0rUQi3hz",
        "colab": {
          "base_uri": "https://localhost:8080/"
        },
        "outputId": "7c4d10df-66b1-4b14-8e7c-e80105e79b11"
      },
      "execution_count": 18,
      "outputs": [
        {
          "output_type": "execute_result",
          "data": {
            "text/plain": [
              "2.8284271247461903"
            ]
          },
          "metadata": {},
          "execution_count": 18
        }
      ]
    },
    {
      "cell_type": "code",
      "source": [
        "def blabber_mouth(number_of_times):\n",
        "  for name in [\"tom \", \"jill \"]:\n",
        "    print(name*number_of_times)\n",
        "\n",
        "\n",
        "\n"
      ],
      "metadata": {
        "id": "_nXonABgj5PX"
      },
      "execution_count": 19,
      "outputs": []
    },
    {
      "cell_type": "code",
      "source": [
        "blabber_mouth(10)"
      ],
      "metadata": {
        "id": "8m19njWVkypb",
        "colab": {
          "base_uri": "https://localhost:8080/"
        },
        "outputId": "75af9042-0412-41fa-af11-1786d67fc554"
      },
      "execution_count": 20,
      "outputs": [
        {
          "output_type": "stream",
          "name": "stdout",
          "text": [
            "tom tom tom tom tom tom tom tom tom tom \n",
            "jill jill jill jill jill jill jill jill jill jill \n"
          ]
        }
      ]
    },
    {
      "cell_type": "code",
      "source": [
        "#  Create a function that converts values from degrees celcius to fahrenheit\n",
        "# Create a function that gives the final price of a food commodity after the tax rate has  been applied"
      ],
      "metadata": {
        "id": "ZgY0Aqskcrb6"
      },
      "execution_count": 21,
      "outputs": []
    },
    {
      "cell_type": "code",
      "source": [
        "#  Create a function that converts values from degrees celcius to fahrenheit\n",
        "# Program to convert Celsius to Fahrenheit\n",
        "\n",
        "# Ask the user for the temperature in Celsius\n",
        "celsius = float(input(\"Enter temperature in degrees Celsius: \"))\n",
        "\n",
        "# Conversion formula: F = (C × 9/5) + 32\n",
        "fahrenheit = (celsius * 9/5) + 32\n",
        "\n",
        "# Print the result\n",
        "print(f\"{celsius:.2f}°C is equal to {fahrenheit:.2f}°F.\")\n"
      ],
      "metadata": {
        "colab": {
          "base_uri": "https://localhost:8080/"
        },
        "id": "tftFSi7FUQWF",
        "outputId": "b55b23e8-a192-476f-a95c-95e523607c7c"
      },
      "execution_count": 22,
      "outputs": [
        {
          "output_type": "stream",
          "name": "stdout",
          "text": [
            "Enter temperature in degrees Celsius: 23\n",
            "23.00°C is equal to 73.40°F.\n"
          ]
        }
      ]
    },
    {
      "cell_type": "code",
      "source": [
        "# Create a function that gives the final price of a food commodity after the tax rate has  been applied\n",
        "def final_price(price, tax_rate):\n",
        "    \"\"\"\n",
        "    Calculate the final price of a food commodity after tax.\n",
        "\n",
        "    Parameters:\n",
        "    price (float): The original price of the food item.\n",
        "    tax_rate (float): The tax rate as a percentage (e.g., 8.5 for 8.5%).\n",
        "\n",
        "    Returns:\n",
        "    float: The final price after tax.\n",
        "    \"\"\"\n",
        "    final = price * (1 + tax_rate / 100)\n",
        "    return round(final, 2)\n",
        "\n",
        "# Example usage:\n",
        "original_price = 10.00  # $10\n",
        "tax_rate = 8.5          # 8.5%\n",
        "print(\"Final price: $\", final_price(original_price, tax_rate))\n"
      ],
      "metadata": {
        "colab": {
          "base_uri": "https://localhost:8080/"
        },
        "id": "xPNzhG56VLUs",
        "outputId": "5694bb09-52ee-4196-b1e8-3c19ff77de45"
      },
      "execution_count": 23,
      "outputs": [
        {
          "output_type": "stream",
          "name": "stdout",
          "text": [
            "Final price: $ 10.85\n"
          ]
        }
      ]
    }
  ]
}