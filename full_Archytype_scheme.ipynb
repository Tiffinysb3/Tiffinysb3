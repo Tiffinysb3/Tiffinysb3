{
  "nbformat": 4,
  "nbformat_minor": 0,
  "metadata": {
    "colab": {
      "provenance": [],
      "authorship_tag": "ABX9TyM82N8w5MQuGECzReeWxwrw",
      "include_colab_link": true
    },
    "kernelspec": {
      "name": "python3",
      "display_name": "Python 3"
    },
    "language_info": {
      "name": "python"
    }
  },
  "cells": [
    {
      "cell_type": "markdown",
      "metadata": {
        "id": "view-in-github",
        "colab_type": "text"
      },
      "source": [
        "<a href=\"https://colab.research.google.com/github/Tiffinysb3/Tiffinysb3/blob/master/full_Archytype_scheme.ipynb\" target=\"_parent\"><img src=\"https://colab.research.google.com/assets/colab-badge.svg\" alt=\"Open In Colab\"/></a>"
      ]
    },
    {
      "cell_type": "code",
      "execution_count": null,
      "metadata": {
        "id": "7tGtdJOp4evl"
      },
      "outputs": [],
      "source": [
        "import json\n",
        "from copy import deepcopy\n",
        "\n",
        "# Define archetypes and subjects\n",
        "archetypes = [\"Individualist\", \"Collectivist\", \"Hybrid\"]\n",
        "subjects = [\"Math\", \"Reading\", \"Science\"]\n",
        "activities_per_archetype_subject = 5\n",
        "\n",
        "# Base template generator\n",
        "def generate_activity(archetype, subject, index):\n",
        "    return {\n",
        "        \"archetype\": archetype,\n",
        "        \"subject\": subject,\n",
        "        \"grade_level\": \"3\",\n",
        "        \"activity_title\": f\"{subject} Activity {index+1} - {archetype}\",\n",
        "        \"learning_objectives\": [\n",
        "            f\"Objective 1 for {subject} - {archetype}\",\n",
        "            f\"Objective 2 for {subject} - {archetype}\"\n",
        "        ],\n",
        "        \"activity_type\": \"Interactive\" if archetype == \"Hybrid\" else (\n",
        "            \"Group project\" if archetype == \"Collectivist\" else \"Independent practice\"\n",
        "        ),\n",
        "        \"instructions\": [\n",
        "            f\"Step 1 for {subject} - {archetype}\",\n",
        "            f\"Step 2 for {subject} - {archetype}\",\n",
        "            \"Complete and reflect on your work.\"\n",
        "        ],\n",
        "        \"materials_needed\": [\"Notebook\", \"Pencil\", f\"{subject} worksheet\"],\n",
        "        \"feedback_style\": \"Peer feedback with group reflection\" if archetype == \"Collectivist\" else (\n",
        "            \"Combination of peer and self-review\" if archetype == \"Hybrid\" else\n",
        "            \"Individual feedback with self-progress chart\"\n",
        "        ),\n",
        "        \"motivation_hooks\": [\n",
        "            \"Gamified points\",\n",
        "            \"Achievement badges\" if archetype != \"Collectivist\" else \"Team celebration\"\n",
        "        ],\n",
        "        \"cultural_extension\": f\"Extension task for {archetype} learners in {subject}.\"\n",
        "    }\n",
        "\n",
        "# Build full dataset\n",
        "activity_templates = []\n",
        "for archetype in archetypes:\n",
        "    for subject in subjects:\n",
        "        for i in range(activities_per_archetype_subject):\n",
        "            activity_templates.append(generate_activity(archetype, subject, i))\n",
        "\n",
        "# Convert to JSON\n",
        "json_data = json.dumps(activity_templates, indent=2)\n",
        "\n",
        "# Save to file\n",
        "output_path = \"/mnt/data/CLP_Activity_Templates.json\"\n",
        "with open(output_path, \"w\") as f:\n",
        "    f.write(json_data)\n",
        "\n",
        "output_path\n"
      ]
    }
  ]
}